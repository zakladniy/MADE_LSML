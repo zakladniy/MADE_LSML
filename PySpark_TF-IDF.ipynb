{
 "cells": [
  {
   "cell_type": "code",
   "execution_count": 1,
   "metadata": {},
   "outputs": [],
   "source": [
    "import math\n",
    "\n",
    "from pyspark.sql.functions import *\n",
    "from pyspark.sql import * \n",
    "from pyspark.sql import SparkSession\n",
    "from pyspark import SparkContext\n",
    "from pyspark.sql.types import StringType, LongType, DoubleType\n",
    "from pyspark.sql.functions import length, size"
   ]
  },
  {
   "cell_type": "code",
   "execution_count": 2,
   "metadata": {},
   "outputs": [],
   "source": [
    "# Создание сессии\n",
    "\n",
    "spark =  SparkSession.builder \\\n",
    "    .master(\"local\") \\\n",
    "    .appName(\"TF-IDF\") \\\n",
    "    .config(\"spark.some.config.option\", \"some-value\") \\\n",
    "    .getOrCreate()"
   ]
  },
  {
   "cell_type": "markdown",
   "metadata": {},
   "source": [
    "# 1. Загрузка данных"
   ]
  },
  {
   "cell_type": "code",
   "execution_count": 3,
   "metadata": {},
   "outputs": [],
   "source": [
    "# Чтение данных в DataFrame\n",
    "\n",
    "df = spark.read \\\n",
    "  .option(\"header\", \"true\") \\\n",
    "  .option(\"inferSchema\", \"true\") \\\n",
    "  .csv(\"tripadvisor_hotel_reviews.csv\")"
   ]
  },
  {
   "cell_type": "markdown",
   "metadata": {},
   "source": [
    "# 2. Очистка и токенизация отзывов"
   ]
  },
  {
   "cell_type": "code",
   "execution_count": 4,
   "metadata": {},
   "outputs": [],
   "source": [
    "# Удаление колонки с рейтингом\n",
    "\n",
    "df_droped = df.drop(col(\"Rating\"))"
   ]
  },
  {
   "cell_type": "code",
   "execution_count": 5,
   "metadata": {},
   "outputs": [],
   "source": [
    "# Функция для очистки и токенизации текста\n",
    "\n",
    "def text_cleaner(string: str):\n",
    "    string = trim(string)\n",
    "    reg_rep_1 = regexp_replace(string, \"[-+.^':;,&#!?/\\\\|*|[0-9]]\", \"\")\n",
    "    reg_rep_2 = regexp_replace(reg_rep_1, \"  \", \" \")\n",
    "    return split(reg_rep_2, \" \")"
   ]
  },
  {
   "cell_type": "code",
   "execution_count": 6,
   "metadata": {},
   "outputs": [],
   "source": [
    "# Токенизация текста\n",
    "\n",
    "df_clean = df_droped.select(\"Review\", text_cleaner(col(\"Review\")).alias(\"document\")).drop(\"Review\")"
   ]
  },
  {
   "cell_type": "code",
   "execution_count": 7,
   "metadata": {},
   "outputs": [
    {
     "name": "stdout",
     "output_type": "stream",
     "text": [
      "+--------------------+\n",
      "|            document|\n",
      "+--------------------+\n",
      "|[nice, hotel, exp...|\n",
      "|[ok, nothing, spe...|\n",
      "|[nice, rooms, not...|\n",
      "|[unique, great, s...|\n",
      "|[great, stay, gre...|\n",
      "|[love, monaco, st...|\n",
      "|[cozy, stay, rain...|\n",
      "|[excellent, staff...|\n",
      "|[hotel, stayed, h...|\n",
      "|[excellent, staye...|\n",
      "|[poor, value, sta...|\n",
      "|[nice, value, sea...|\n",
      "|[nice, hotel, goo...|\n",
      "|[nice, hotel, not...|\n",
      "|[great, hotel, ni...|\n",
      "|[horrible, custom...|\n",
      "|[disappointed, sa...|\n",
      "|[fantastic, stay,...|\n",
      "|[good, choice, ho...|\n",
      "|[hmmmmm, say, rea...|\n",
      "+--------------------+\n",
      "only showing top 20 rows\n",
      "\n"
     ]
    }
   ],
   "source": [
    "df_clean.show()"
   ]
  },
  {
   "cell_type": "code",
   "execution_count": 8,
   "metadata": {},
   "outputs": [
    {
     "data": {
      "text/plain": [
       "Row(document=['ok', 'nothing', 'special', 'charge', 'diamond', 'member', 'hilton', 'decided', 'chain', 'shot', 'th', 'anniversary', 'seattle', 'start', 'booked', 'suite', 'paid', 'extra', 'website', 'description', 'not', 'suite', 'bedroom', 'bathroom', 'standard', 'hotel', 'room', 'took', 'printed', 'reservation', 'desk', 'showed', 'said', 'things', 'like', 'tv', 'couch', 'ect', 'desk', 'clerk', 'told', 'oh', 'mixed', 'suites', 'description', 'kimpton', 'website', 'sorry', 'free', 'breakfast', 'got', 'kidding', 'embassy', 'suits', 'sitting', 'room', 'bathroom', 'bedroom', 'unlike', 'kimpton', 'calls', 'suite', 'day', 'stay', 'offer', 'correct', 'false', 'advertising', 'send', 'kimpton', 'preferred', 'guest', 'website', 'email', 'asking', 'failure', 'provide', 'suite', 'advertised', 'website', 'reservation', 'description', 'furnished', 'hard', 'copy', 'reservation', 'printout', 'website', 'desk', 'manager', 'duty', 'did', 'not', 'reply', 'solution', 'send', 'email', 'trip', 'guest', 'survey', 'did', 'not', 'follow', 'email', 'mail', 'guess', 'tell', 'concerned', 'guestthe', 'staff', 'ranged', 'indifferent', 'not', 'helpful', 'asked', 'desk', 'good', 'breakfast', 'spots', 'neighborhood', 'hood', 'told', 'no', 'hotels', 'gee', 'best', 'breakfast', 'spots', 'seattle', 'block', 'away', 'convenient', 'hotel', 'does', 'not', 'know', 'exist', 'arrived', 'late', 'night', 'pm', 'inside', 'run', 'bellman', 'busy', 'chating', 'cell', 'phone', 'help', 'bagsprior', 'arrival', 'emailed', 'hotel', 'inform', 'th', 'anniversary', 'half', 'really', 'picky', 'wanted', 'make', 'sure', 'good', 'got', 'nice', 'email', 'saying', 'like', 'deliver', 'bottle', 'champagne', 'chocolate', 'covered', 'strawberries', 'room', 'arrival', 'celebrate', 'told', 'needed', 'foam', 'pillows', 'arrival', 'no', 'champagne', 'strawberries', 'no', 'foam', 'pillows', 'great', 'room', 'view', 'alley', 'high', 'rise', 'building', 'good', 'not', 'better', 'housekeeping', 'staff', 'cleaner', 'room', 'property', 'impressed', 'left', 'morning', 'shopping', 'room', 'got', 'short', 'trips', 'hours', 'beds', 'comfortablenot', 'good', 'acheat', 'control', 'x', 'inch', 'screen', 'bring', 'green', 'shine', 'directly', 'eyes', 'night', 'light', 'sensitive', 'tape', 'controlsthis', 'not', 'start', 'hotel', 'clean', 'business', 'hotel', 'super', 'high', 'rates', 'better', 'chain', 'hotels', 'seattle'])"
      ]
     },
     "execution_count": 8,
     "metadata": {},
     "output_type": "execute_result"
    }
   ],
   "source": [
    "# Токены одного из отзывов\n",
    "\n",
    "df_clean.select(\"document\").collect()[1]"
   ]
  },
  {
   "cell_type": "markdown",
   "metadata": {},
   "source": [
    "# 3. Добавление уникального id для каждого документа"
   ]
  },
  {
   "cell_type": "code",
   "execution_count": 9,
   "metadata": {},
   "outputs": [],
   "source": [
    "# Назначение id в диапазоне [0, count(tokens) - 1]\n",
    "\n",
    "df_token = df_clean.withColumn(\"doc_id\", monotonically_increasing_id())"
   ]
  },
  {
   "cell_type": "code",
   "execution_count": 10,
   "metadata": {},
   "outputs": [
    {
     "name": "stdout",
     "output_type": "stream",
     "text": [
      "+--------------------+------+\n",
      "|            document|doc_id|\n",
      "+--------------------+------+\n",
      "|[nice, hotel, exp...|     0|\n",
      "|[ok, nothing, spe...|     1|\n",
      "|[nice, rooms, not...|     2|\n",
      "|[unique, great, s...|     3|\n",
      "|[great, stay, gre...|     4|\n",
      "|[love, monaco, st...|     5|\n",
      "|[cozy, stay, rain...|     6|\n",
      "|[excellent, staff...|     7|\n",
      "|[hotel, stayed, h...|     8|\n",
      "|[excellent, staye...|     9|\n",
      "|[poor, value, sta...|    10|\n",
      "|[nice, value, sea...|    11|\n",
      "|[nice, hotel, goo...|    12|\n",
      "|[nice, hotel, not...|    13|\n",
      "|[great, hotel, ni...|    14|\n",
      "|[horrible, custom...|    15|\n",
      "|[disappointed, sa...|    16|\n",
      "|[fantastic, stay,...|    17|\n",
      "|[good, choice, ho...|    18|\n",
      "|[hmmmmm, say, rea...|    19|\n",
      "+--------------------+------+\n",
      "only showing top 20 rows\n",
      "\n"
     ]
    }
   ],
   "source": [
    "df_token.show()"
   ]
  },
  {
   "cell_type": "markdown",
   "metadata": {},
   "source": [
    "# 4. Сопоставление каждого токена с документом, в котором он встречается"
   ]
  },
  {
   "cell_type": "code",
   "execution_count": 11,
   "metadata": {},
   "outputs": [],
   "source": [
    "# \"Разворот\" каждого документа на его токены\n",
    "\n",
    "columns = df_token.select(\"document\", \"doc_id\", explode_outer(\"document\").alias(\"token\"))"
   ]
  },
  {
   "cell_type": "code",
   "execution_count": 12,
   "metadata": {},
   "outputs": [
    {
     "name": "stdout",
     "output_type": "stream",
     "text": [
      "+--------------------+------+-----------+\n",
      "|            document|doc_id|      token|\n",
      "+--------------------+------+-----------+\n",
      "|[nice, hotel, exp...|     0|       nice|\n",
      "|[nice, hotel, exp...|     0|      hotel|\n",
      "|[nice, hotel, exp...|     0|  expensive|\n",
      "|[nice, hotel, exp...|     0|    parking|\n",
      "|[nice, hotel, exp...|     0|        got|\n",
      "|[nice, hotel, exp...|     0|       good|\n",
      "|[nice, hotel, exp...|     0|       deal|\n",
      "|[nice, hotel, exp...|     0|       stay|\n",
      "|[nice, hotel, exp...|     0|      hotel|\n",
      "|[nice, hotel, exp...|     0|anniversary|\n",
      "|[nice, hotel, exp...|     0|    arrived|\n",
      "|[nice, hotel, exp...|     0|       late|\n",
      "|[nice, hotel, exp...|     0|    evening|\n",
      "|[nice, hotel, exp...|     0|       took|\n",
      "|[nice, hotel, exp...|     0|     advice|\n",
      "|[nice, hotel, exp...|     0|   previous|\n",
      "|[nice, hotel, exp...|     0|    reviews|\n",
      "|[nice, hotel, exp...|     0|        did|\n",
      "|[nice, hotel, exp...|     0|      valet|\n",
      "|[nice, hotel, exp...|     0|    parking|\n",
      "+--------------------+------+-----------+\n",
      "only showing top 20 rows\n",
      "\n"
     ]
    }
   ],
   "source": [
    "columns.show()"
   ]
  },
  {
   "cell_type": "markdown",
   "metadata": {},
   "source": [
    "# 5. Подсчёт количества вхождений слов в документы (TF)"
   ]
  },
  {
   "cell_type": "code",
   "execution_count": 13,
   "metadata": {},
   "outputs": [],
   "source": [
    "df_tf = columns.groupBy(\"doc_id\", \"token\").agg((count(\"document\")).alias(\"tf\"))"
   ]
  },
  {
   "cell_type": "code",
   "execution_count": 14,
   "metadata": {},
   "outputs": [
    {
     "name": "stdout",
     "output_type": "stream",
     "text": [
      "+------+----------+---+\n",
      "|doc_id|     token| tf|\n",
      "+------+----------+---+\n",
      "|     0|      room|  3|\n",
      "|     1|    better|  2|\n",
      "|     6|attractive|  1|\n",
      "|     6|  positive|  1|\n",
      "|     7| concierge|  2|\n",
      "|    10|        nt|  2|\n",
      "|    12|     clean|  1|\n",
      "|    12|   concert|  1|\n",
      "|    15|      stay|  2|\n",
      "|    16|      desk|  6|\n",
      "|    19|       bed|  1|\n",
      "|    30| excellent|  1|\n",
      "|    32|    really|  1|\n",
      "|    44| cringeshe|  1|\n",
      "|    46|      mind|  1|\n",
      "|    51|    pretty|  1|\n",
      "|    52|     steer|  1|\n",
      "|    54|     tacky|  1|\n",
      "|    58|   staying|  1|\n",
      "|    63|       etc|  1|\n",
      "+------+----------+---+\n",
      "only showing top 20 rows\n",
      "\n"
     ]
    }
   ],
   "source": [
    "df_tf.show()"
   ]
  },
  {
   "cell_type": "markdown",
   "metadata": {},
   "source": [
    "# 6. Подсчет  числа документов из коллекции, в которых встречается данное слово (DF)"
   ]
  },
  {
   "cell_type": "code",
   "execution_count": 15,
   "metadata": {},
   "outputs": [],
   "source": [
    "# Расчёт df\n",
    "\n",
    "df_df = columns.groupBy(\"token\").agg(countDistinct(\"doc_id\").alias(\"df\"))"
   ]
  },
  {
   "cell_type": "code",
   "execution_count": 16,
   "metadata": {},
   "outputs": [
    {
     "name": "stdout",
     "output_type": "stream",
     "text": [
      "+-----------+----+\n",
      "|      token|  df|\n",
      "+-----------+----+\n",
      "|     travel|1330|\n",
      "|   priority|  75|\n",
      "|        art| 312|\n",
      "|       hope| 541|\n",
      "|      pools| 819|\n",
      "|    barrier| 164|\n",
      "| lifeguards|  19|\n",
      "|  standards| 578|\n",
      "|   everyday| 514|\n",
      "|  timetable|   6|\n",
      "|     online| 360|\n",
      "|  traveling| 436|\n",
      "|hereevening|   1|\n",
      "|     gloria|   6|\n",
      "|     waters|  96|\n",
      "|  connected| 154|\n",
      "|  smokefree|   8|\n",
      "|handicapped|  24|\n",
      "|    jewelry|  56|\n",
      "|   cabinish|   1|\n",
      "+-----------+----+\n",
      "only showing top 20 rows\n",
      "\n"
     ]
    }
   ],
   "source": [
    "df_df.show()"
   ]
  },
  {
   "cell_type": "markdown",
   "metadata": {},
   "source": [
    "## 6.1 Отбор 100 самых встречаемых слов"
   ]
  },
  {
   "cell_type": "code",
   "execution_count": 17,
   "metadata": {},
   "outputs": [],
   "source": [
    "# Сортировка по убыванию параметра df и отбор 100 слов с самым большим df\n",
    "\n",
    "df_df_100 = df_df.orderBy(col(\"df\").desc()).limit(100)"
   ]
  },
  {
   "cell_type": "code",
   "execution_count": 18,
   "metadata": {},
   "outputs": [
    {
     "name": "stdout",
     "output_type": "stream",
     "text": [
      "+---------+-----+\n",
      "|    token|   df|\n",
      "+---------+-----+\n",
      "|    hotel|16323|\n",
      "|     room|14052|\n",
      "|      not|12124|\n",
      "|    staff|11526|\n",
      "|    great|11021|\n",
      "|     stay|10095|\n",
      "|     good| 9280|\n",
      "|   stayed| 8552|\n",
      "|       nt| 8383|\n",
      "|    rooms| 8339|\n",
      "| location| 8170|\n",
      "|     just| 7736|\n",
      "|    clean| 7650|\n",
      "|     nice| 7419|\n",
      "|      did| 7207|\n",
      "|breakfast| 7113|\n",
      "|       no| 6818|\n",
      "|    night| 6476|\n",
      "|  service| 6231|\n",
      "|     time| 6151|\n",
      "+---------+-----+\n",
      "only showing top 20 rows\n",
      "\n"
     ]
    }
   ],
   "source": [
    "df_df_100.show()"
   ]
  },
  {
   "cell_type": "markdown",
   "metadata": {},
   "source": [
    "# 7. Расчет инверсии частоты, с которой каждое слово встречается в документах коллекции (IDF)"
   ]
  },
  {
   "cell_type": "code",
   "execution_count": 19,
   "metadata": {},
   "outputs": [],
   "source": [
    "# Функция для расчета idf, по df и количеству документов - d\n",
    "\n",
    "text_count = df_droped.count()\n",
    "\n",
    "def calc_idf(df, d=text_count):\n",
    "    return math.log((d + 1) / (df + 1))"
   ]
  },
  {
   "cell_type": "code",
   "execution_count": 20,
   "metadata": {},
   "outputs": [],
   "source": [
    "# Создание udf-функции из функции для расчета idf\n",
    "\n",
    "calc_idf_udf = udf(calc_idf, DoubleType())"
   ]
  },
  {
   "cell_type": "code",
   "execution_count": 21,
   "metadata": {},
   "outputs": [],
   "source": [
    "# Расчёт idf\n",
    "\n",
    "df_idf = df_df_100.withColumn(\"idf\", calc_idf_udf(col(\"df\")))"
   ]
  },
  {
   "cell_type": "code",
   "execution_count": 22,
   "metadata": {},
   "outputs": [
    {
     "name": "stdout",
     "output_type": "stream",
     "text": [
      "+---------+-----+-------------------+\n",
      "|    token|   df|                idf|\n",
      "+---------+-----+-------------------+\n",
      "|    hotel|16323| 0.2273981485333966|\n",
      "|     room|14052|0.37719866995834783|\n",
      "|      not|12124| 0.5247651292534089|\n",
      "|    staff|11526| 0.5753424564580804|\n",
      "|    great|11021| 0.6201412906159123|\n",
      "|     stay|10095| 0.7078952602780986|\n",
      "|     good| 9280| 0.7920652664637001|\n",
      "|   stayed| 8552| 0.8737524674783113|\n",
      "|       nt| 8383| 0.8937094384982694|\n",
      "|    rooms| 8339| 0.8989713497063005|\n",
      "| location| 8170| 0.9194432656743855|\n",
      "|     just| 7736| 0.9740205505096384|\n",
      "|    clean| 7650|  0.985198207827241|\n",
      "|     nice| 7419| 1.0158555088976666|\n",
      "|      did| 7207|  1.044843045770919|\n",
      "|breakfast| 7113| 1.0579698925506924|\n",
      "|       no| 6818|   1.10032173253844|\n",
      "|    night| 6476| 1.1517771258761758|\n",
      "|  service| 6231| 1.1903372575085087|\n",
      "|     time| 6151|  1.203257333873613|\n",
      "+---------+-----+-------------------+\n",
      "only showing top 20 rows\n",
      "\n"
     ]
    }
   ],
   "source": [
    "df_idf.show()"
   ]
  },
  {
   "cell_type": "markdown",
   "metadata": {},
   "source": [
    "# 8. Расчёт TF-IDF"
   ]
  },
  {
   "cell_type": "code",
   "execution_count": 23,
   "metadata": {},
   "outputs": [],
   "source": [
    "# Получение только тех документов и tf, где встречаются 100 самых частых токенов\n",
    "\n",
    "df_tf_100 = df_tf.join(df_df_100, \"token\")"
   ]
  },
  {
   "cell_type": "code",
   "execution_count": 24,
   "metadata": {},
   "outputs": [
    {
     "name": "stdout",
     "output_type": "stream",
     "text": [
      "+---------+------+---+-----+\n",
      "|    token|doc_id| tf|   df|\n",
      "+---------+------+---+-----+\n",
      "|     room|     0|  3|14052|\n",
      "|   better|     1|  2| 3244|\n",
      "|       nt|    10|  2| 8383|\n",
      "|    clean|    12|  1| 7650|\n",
      "|     stay|    15|  2|10095|\n",
      "|     desk|    16|  6| 3192|\n",
      "|      bed|    19|  1| 3781|\n",
      "|excellent|    30|  1| 4423|\n",
      "|   really|    32|  1| 4883|\n",
      "|   street|    70|  1| 2768|\n",
      "|      bed|    80|  1| 3781|\n",
      "|      day|   116|  1| 5778|\n",
      "|     just|   125|  1| 7736|\n",
      "|   little|   133|  1| 4403|\n",
      "|   hotels|   146|  1| 3243|\n",
      "|      did|   153|  1| 7207|\n",
      "|  walking|   173|  1| 2567|\n",
      "|       no|   176|  1| 6818|\n",
      "| bathroom|   189|  2| 4253|\n",
      "|      day|   207|  1| 5778|\n",
      "+---------+------+---+-----+\n",
      "only showing top 20 rows\n",
      "\n"
     ]
    }
   ],
   "source": [
    "df_tf_100.show()"
   ]
  },
  {
   "cell_type": "code",
   "execution_count": 25,
   "metadata": {},
   "outputs": [],
   "source": [
    "# Расчёт tf-idf\n",
    "\n",
    "df_tf_idf = df_tf_100.join(df_idf, [\"token\"], \"left\").withColumn(\"tf_idf\", col(\"tf\") * col(\"idf\"))"
   ]
  },
  {
   "cell_type": "code",
   "execution_count": 26,
   "metadata": {},
   "outputs": [
    {
     "name": "stdout",
     "output_type": "stream",
     "text": [
      "+---------+------+---+-----+-----+-------------------+------------------+\n",
      "|    token|doc_id| tf|   df|   df|                idf|            tf_idf|\n",
      "+---------+------+---+-----+-----+-------------------+------------------+\n",
      "|     room|     0|  3|14052|14052|0.37719866995834783|1.1315960098750435|\n",
      "|   better|     1|  2| 3244| 3244| 1.8429192159209025| 3.685838431841805|\n",
      "|       nt|    10|  2| 8383| 8383| 0.8937094384982694| 1.787418876996539|\n",
      "|    clean|    12|  1| 7650| 7650|  0.985198207827241| 0.985198207827241|\n",
      "|     stay|    15|  2|10095|10095| 0.7078952602780986|1.4157905205561971|\n",
      "|     desk|    16|  6| 3192| 3192|  1.859073652344311|11.154441914065867|\n",
      "|      bed|    19|  1| 3781| 3781|   1.68978159584069|  1.68978159584069|\n",
      "|excellent|    30|  1| 4423| 4423| 1.5329903018569222|1.5329903018569222|\n",
      "|   really|    32|  1| 4883| 4883| 1.4340700098284975|1.4340700098284975|\n",
      "|   street|    70|  1| 2768| 2768|  2.001548321888131| 2.001548321888131|\n",
      "|      bed|    80|  1| 3781| 3781|   1.68978159584069|  1.68978159584069|\n",
      "|      day|   116|  1| 5778| 5778| 1.2658039087413149|1.2658039087413149|\n",
      "|     just|   125|  1| 7736| 7736| 0.9740205505096384|0.9740205505096384|\n",
      "|   little|   133|  1| 4403| 4403| 1.5375213472165223|1.5375213472165223|\n",
      "|   hotels|   146|  1| 3243| 3243| 1.8432274298237894|1.8432274298237894|\n",
      "|      did|   153|  1| 7207| 7207|  1.044843045770919| 1.044843045770919|\n",
      "|  walking|   173|  1| 2567| 2567|  2.076907180249241| 2.076907180249241|\n",
      "|       no|   176|  1| 6818| 6818|   1.10032173253844|  1.10032173253844|\n",
      "| bathroom|   189|  2| 4253| 4253| 1.5721748492989105| 3.144349698597821|\n",
      "|      day|   207|  1| 5778| 5778| 1.2658039087413149|1.2658039087413149|\n",
      "+---------+------+---+-----+-----+-------------------+------------------+\n",
      "only showing top 20 rows\n",
      "\n"
     ]
    }
   ],
   "source": [
    "df_tf_idf.show()"
   ]
  },
  {
   "cell_type": "code",
   "execution_count": 27,
   "metadata": {},
   "outputs": [],
   "source": [
    "# Удаление ненужных столбцов\n",
    "\n",
    "df_tf_idf = df_tf_idf.drop(\"df\", \"tf\", \"idf\")"
   ]
  },
  {
   "cell_type": "code",
   "execution_count": 28,
   "metadata": {},
   "outputs": [
    {
     "name": "stdout",
     "output_type": "stream",
     "text": [
      "+---------+------+------------------+\n",
      "|    token|doc_id|            tf_idf|\n",
      "+---------+------+------------------+\n",
      "|     room|     0|1.1315960098750435|\n",
      "|   better|     1| 3.685838431841805|\n",
      "|       nt|    10| 1.787418876996539|\n",
      "|    clean|    12| 0.985198207827241|\n",
      "|     stay|    15|1.4157905205561971|\n",
      "|     desk|    16|11.154441914065867|\n",
      "|      bed|    19|  1.68978159584069|\n",
      "|excellent|    30|1.5329903018569222|\n",
      "|   really|    32|1.4340700098284975|\n",
      "|   street|    70| 2.001548321888131|\n",
      "|      bed|    80|  1.68978159584069|\n",
      "|      day|   116|1.2658039087413149|\n",
      "|     just|   125|0.9740205505096384|\n",
      "|   little|   133|1.5375213472165223|\n",
      "|   hotels|   146|1.8432274298237894|\n",
      "|      did|   153| 1.044843045770919|\n",
      "|  walking|   173| 2.076907180249241|\n",
      "|       no|   176|  1.10032173253844|\n",
      "| bathroom|   189| 3.144349698597821|\n",
      "|      day|   207|1.2658039087413149|\n",
      "+---------+------+------------------+\n",
      "only showing top 20 rows\n",
      "\n"
     ]
    }
   ],
   "source": [
    "df_tf_idf.show()"
   ]
  },
  {
   "cell_type": "code",
   "execution_count": 29,
   "metadata": {},
   "outputs": [],
   "source": [
    "# Объединение датасетов, для получения столбца с токенами документов\n",
    "\n",
    "df_join = df_token.join(df_tf_idf, df_token.doc_id == df_tf_idf.doc_id)"
   ]
  },
  {
   "cell_type": "code",
   "execution_count": 30,
   "metadata": {},
   "outputs": [],
   "source": [
    "# Добавление колонки с количество токеном, для перевода tf в относительную шкалу\n",
    "\n",
    "df_join = df_join.withColumn('length_tokens', size(\"document\"))"
   ]
  },
  {
   "cell_type": "code",
   "execution_count": 31,
   "metadata": {},
   "outputs": [],
   "source": [
    "# Деление tf-idf на количество токенов\n",
    "\n",
    "df_join = df_join.withColumn('tf_idf_right', col(\"tf_idf\") / col(\"length_tokens\"))"
   ]
  },
  {
   "cell_type": "code",
   "execution_count": 32,
   "metadata": {},
   "outputs": [
    {
     "name": "stdout",
     "output_type": "stream",
     "text": [
      "+--------------------+------+---------+------+-------------------+-------------+--------------------+\n",
      "|            document|doc_id|    token|doc_id|             tf_idf|length_tokens|        tf_idf_right|\n",
      "+--------------------+------+---------+------+-------------------+-------------+--------------------+\n",
      "|[loved, stayed, w...|    26|    staff|    26| 0.5753424564580804|           42| 0.01369862991566858|\n",
      "|[loved, stayed, w...|    26|    loved|    26| 2.0945858964180353|           42|0.049871092771857986|\n",
      "|[loved, stayed, w...|    26|     days|    26|  2.013172136018414|           42| 0.04793266990520033|\n",
      "|[loved, stayed, w...|    26| bathroom|    26| 1.5721748492989105|           42| 0.03743273450711691|\n",
      "|[loved, stayed, w...|    26|     stay|    26| 0.7078952602780986|           42| 0.01685464905424044|\n",
      "|[loved, stayed, w...|    26|    think|    26| 2.1681756943621897|           42|0.051623230818147375|\n",
      "|[loved, stayed, w...|    26|  service|    26| 1.1903372575085087|           42|0.028341363274012113|\n",
      "|[loved, stayed, w...|    26|    hotel|    26| 0.2273981485333966|           42|0.005414241631747538|\n",
      "|[loved, stayed, w...|    26|    clean|    26|  0.985198207827241|           42| 0.02345710018636288|\n",
      "|[loved, stayed, w...|    26|     room|    26|0.37719866995834783|           42|0.008980920713293997|\n",
      "|[loved, stayed, w...|    26| friendly|    26| 2.5109500335511106|           42| 0.05978452460835978|\n",
      "|[loved, stayed, w...|    26|    going|    26| 2.0687628653075554|           42| 0.04925625869779894|\n",
      "|[loved, stayed, w...|    26|   really|    26| 1.4340700098284975|           42| 0.03414452404353566|\n",
      "|[loved, stayed, w...|    26|wonderful|    26| 3.8176703238067495|           42| 0.09089691247158928|\n",
      "|[loved, stayed, w...|    26|   stayed|    26| 0.8737524674783113|           42| 0.02080363017805503|\n",
      "|[good, hotel, not...|    29| location|    29| 0.9194432656743855|           32|0.028732602052324547|\n",
      "|[good, hotel, not...|    29|    rooms|    29| 0.8989713497063005|           32|0.028092854678321892|\n",
      "|[good, hotel, not...|    29|    place|    29| 1.3491253315547544|           32|0.042160166611086076|\n",
      "|[good, hotel, not...|    29|recommend|    29| 1.5752354755845022|           32| 0.04922610861201569|\n",
      "|[good, hotel, not...|    29|      not|    29| 0.5247651292534089|           32|0.016398910289169028|\n",
      "+--------------------+------+---------+------+-------------------+-------------+--------------------+\n",
      "only showing top 20 rows\n",
      "\n"
     ]
    }
   ],
   "source": [
    "df_join.show()"
   ]
  },
  {
   "cell_type": "code",
   "execution_count": 33,
   "metadata": {},
   "outputs": [],
   "source": [
    "# Удаление лишних столбцов\n",
    "\n",
    "df_join = df_join.drop(\"length_tokens\", \"doc_id\", \"doc_id\", \"tf_idf\", \"df\")"
   ]
  },
  {
   "cell_type": "code",
   "execution_count": 34,
   "metadata": {},
   "outputs": [
    {
     "name": "stdout",
     "output_type": "stream",
     "text": [
      "+--------------------+---------+--------------------+\n",
      "|            document|    token|        tf_idf_right|\n",
      "+--------------------+---------+--------------------+\n",
      "|[loved, stayed, w...|    staff| 0.01369862991566858|\n",
      "|[loved, stayed, w...|    loved|0.049871092771857986|\n",
      "|[loved, stayed, w...|     days| 0.04793266990520033|\n",
      "|[loved, stayed, w...| bathroom| 0.03743273450711691|\n",
      "|[loved, stayed, w...|     stay| 0.01685464905424044|\n",
      "|[loved, stayed, w...|    think|0.051623230818147375|\n",
      "|[loved, stayed, w...|  service|0.028341363274012113|\n",
      "|[loved, stayed, w...|    hotel|0.005414241631747538|\n",
      "|[loved, stayed, w...|    clean| 0.02345710018636288|\n",
      "|[loved, stayed, w...|     room|0.008980920713293997|\n",
      "|[loved, stayed, w...| friendly| 0.05978452460835978|\n",
      "|[loved, stayed, w...|    going| 0.04925625869779894|\n",
      "|[loved, stayed, w...|   really| 0.03414452404353566|\n",
      "|[loved, stayed, w...|wonderful| 0.09089691247158928|\n",
      "|[loved, stayed, w...|   stayed| 0.02080363017805503|\n",
      "|[good, hotel, not...| location|0.028732602052324547|\n",
      "|[good, hotel, not...|    rooms|0.028092854678321892|\n",
      "|[good, hotel, not...|    place|0.042160166611086076|\n",
      "|[good, hotel, not...|recommend| 0.04922610861201569|\n",
      "|[good, hotel, not...|      not|0.016398910289169028|\n",
      "+--------------------+---------+--------------------+\n",
      "only showing top 20 rows\n",
      "\n"
     ]
    }
   ],
   "source": [
    "df_join.show()"
   ]
  },
  {
   "cell_type": "code",
   "execution_count": 35,
   "metadata": {},
   "outputs": [],
   "source": [
    "# Пайвотинг таблицы, для перевода каждого из 100 слов в столбцы\n",
    "\n",
    "df_final = df_join.groupBy(\"document\").pivot(\"token\").agg(first(\"tf_idf_right\"))"
   ]
  },
  {
   "cell_type": "code",
   "execution_count": 36,
   "metadata": {},
   "outputs": [],
   "source": [
    "# Заполнение значений \"null\" на 0\n",
    "\n",
    "df_final = df_final.na.fill(0)"
   ]
  },
  {
   "cell_type": "code",
   "execution_count": 37,
   "metadata": {},
   "outputs": [
    {
     "name": "stdout",
     "output_type": "stream",
     "text": [
      "+--------------------+---+-------------------+-------+-------------------+---+--------+-------------------+---------+-------------------+----+----+------+--------------------+---+------+--------------------+------+-----+----+-------------------+-----+--------------------+---+----+----------+----+---+--------------------+--------------------+-------------------+-----+----+------------------+--------+-----+--------------------+---+--------------------+-------+--------------------+--------------------+--------------------+-------------------+--------------------+------+-----+-------------------+---+-----+------+----+-------+-------+----+-------------------+--------------------+-------------------+------+---+--------------------+--------------------+------+-------+-------------------+--------------------+-----+-------+-----+-----+--------------------+---------+------+----------+--------------------+-------+--------------------+--------------------+--------------------+-------------------+-------+------+-------------------+--------------------+--------------------+-------------------+--------------------+---+-------------------+--------------------+-----+----+----+----+--------------------+-------+----+-----+---+----+---------+\n",
      "|            document|   |               area|arrived|               away|bar|bathroom|              beach|beautiful|                bed|beds|best|better|                 big|bit|booked|           breakfast|buffet|check|city|              clean|close|         comfortable|day|days|definitely|desk|did|           excellent|          experience|          fantastic|floor|food|              free|friendly|going|                good|got|               great|helpful|               hotel|              hotels|                just|              large|                like|little|lobby|           location|lot|loved|lovely|make|minutes|morning|need|                new|                nice|              night|nights| no|                 not|                  nt|people|perfect|              place|                pool|price|problem|quiet|quite|              really|recommend|resort|restaurant|         restaurants|reviews|               right|                room|               rooms|                say|service|shower|              small|               staff|                stay|             stayed|              street| th|              think|                time|times|took|trip|view|                walk|walking|want|water|way|went|wonderful|\n",
      "+--------------------+---+-------------------+-------+-------------------+---+--------+-------------------+---------+-------------------+----+----+------+--------------------+---+------+--------------------+------+-----+----+-------------------+-----+--------------------+---+----+----------+----+---+--------------------+--------------------+-------------------+-----+----+------------------+--------+-----+--------------------+---+--------------------+-------+--------------------+--------------------+--------------------+-------------------+--------------------+------+-----+-------------------+---+-----+------+----+-------+-------+----+-------------------+--------------------+-------------------+------+---+--------------------+--------------------+------+-------+-------------------+--------------------+-----+-------+-----+-----+--------------------+---------+------+----------+--------------------+-------+--------------------+--------------------+--------------------+-------------------+-------+------+-------------------+--------------------+--------------------+-------------------+--------------------+---+-------------------+--------------------+-----+----+----+----+--------------------+-------+----+-----+---+----+---------+\n",
      "|[fantastic, value...|0.0|                0.0|    0.0|0.01832022471017717|0.0|     0.0|                0.0|      0.0|0.01673051084990782| 0.0| 0.0|   0.0|0.020996896583496166|0.0|   0.0|0.010474949431194975|   0.0|  0.0| 0.0|                0.0|  0.0|0.016587561928833074|0.0| 0.0|       0.0| 0.0|0.0|0.015178121800563587|                 0.0|0.04299339624792544|  0.0| 0.0|0.0188085226299736|     0.0|  0.0|0.015684460722053466|0.0|0.012280025556750737|    0.0|0.004502933634324685|0.054749329598726415|0.019287535653656207|                0.0|0.013333498296031709|   0.0|  0.0|0.00910339867004342|0.0|  0.0|   0.0| 0.0|    0.0|    0.0| 0.0|0.02034230485342922|0.010057975335620462|0.03421120175869829|   0.0|0.0|0.010391388698087305|0.008848608301963063|   0.0|    0.0|0.04007302965014122|0.016185551537531175|  0.0|    0.0|  0.0|  0.0|0.014198712968598986|      0.0|   0.0|       0.0|                 0.0|    0.0|                 0.0|0.014938561186469222|0.008900706432735649|0.01959107272503541|    0.0|   0.0|0.01427400603181898|                 0.0|0.014017727926298981|0.01730202905897646|0.019817310117704268|0.0|0.02146708608279396|0.023826877898487385|  0.0| 0.0| 0.0| 0.0|0.014699741158803674|    0.0| 0.0|  0.0|0.0| 0.0|      0.0|\n",
      "|[nice, hotel, int...|0.0|0.06062447165367222|    0.0|                0.0|0.0|     0.0|0.04196903247557738|      0.0|                0.0| 0.0| 0.0|   0.0|                 0.0|0.0|   0.0|0.013392023956337878|   0.0|  0.0| 0.0|0.01247086339021824|  0.0|                 0.0|0.0| 0.0|       0.0| 0.0|0.0|                 0.0|0.025906425858632804|                0.0|  0.0| 0.0|               0.0|     0.0|  0.0|0.010026142613464559|0.0|0.023549669263895404|    0.0| 0.02014920303460476|                 0.0|                 0.0|0.02455602213890387|0.017046624403787375|   0.0|  0.0|                0.0|0.0|  0.0|   0.0| 0.0|    0.0|    0.0| 0.0|                0.0| 0.03857679147712658|                0.0|   0.0|0.0|                 0.0|                 0.0|   0.0|    0.0|                0.0| 0.06207876096040438|  0.0|    0.0|  0.0|  0.0|                 0.0|      0.0|   0.0|       0.0|0.021141074517099557|    0.0|0.023042671308090106|0.009549333416667034|                 0.0|                0.0|    0.0|   0.0|                0.0|0.007282815904532663|                 0.0|                0.0|                 0.0|0.0|                0.0|                 0.0|  0.0| 0.0| 0.0| 0.0|                 0.0|    0.0| 0.0|  0.0|0.0| 0.0|      0.0|\n",
      "+--------------------+---+-------------------+-------+-------------------+---+--------+-------------------+---------+-------------------+----+----+------+--------------------+---+------+--------------------+------+-----+----+-------------------+-----+--------------------+---+----+----------+----+---+--------------------+--------------------+-------------------+-----+----+------------------+--------+-----+--------------------+---+--------------------+-------+--------------------+--------------------+--------------------+-------------------+--------------------+------+-----+-------------------+---+-----+------+----+-------+-------+----+-------------------+--------------------+-------------------+------+---+--------------------+--------------------+------+-------+-------------------+--------------------+-----+-------+-----+-----+--------------------+---------+------+----------+--------------------+-------+--------------------+--------------------+--------------------+-------------------+-------+------+-------------------+--------------------+--------------------+-------------------+--------------------+---+-------------------+--------------------+-----+----+----+----+--------------------+-------+----+-----+---+----+---------+\n",
      "only showing top 2 rows\n",
      "\n"
     ]
    }
   ],
   "source": [
    "df_final.show(2)"
   ]
  },
  {
   "cell_type": "code",
   "execution_count": 38,
   "metadata": {},
   "outputs": [
    {
     "name": "stdout",
     "output_type": "stream",
     "text": [
      "+--------------------+--------------------+--------------------+\n",
      "|            document|               hotel|            location|\n",
      "+--------------------+--------------------+--------------------+\n",
      "|[fantastic, value...|0.004502933634324685| 0.00910339867004342|\n",
      "|[nice, hotel, int...| 0.02014920303460476|                 0.0|\n",
      "|[really, unique, ...|0.007579938284446554|0.015324054427906426|\n",
      "|[neat, comfortabl...|0.014212384283337287|                 0.0|\n",
      "|[average, problem...|3.954750409276462...|                 0.0|\n",
      "|[okay, not, great...|                 0.0|                 0.0|\n",
      "|[little, flashy, ...|                 0.0| 0.02138240152731129|\n",
      "|[nice, place, jus...|0.008976242705265655|0.006048968853120958|\n",
      "|[good, trip, stay...| 0.00879814265158975|                 0.0|\n",
      "|[clean, bit, far,...|0.009345129391783422| 0.01259511322841624|\n",
      "|[solid, hotel, sp...|0.010336279478790756|                 0.0|\n",
      "|[dump, christmas,...|                 0.0|                 0.0|\n",
      "|[need, tender, lo...|0.002707120815873769|                 0.0|\n",
      "|[fabulous, breakf...|0.003727838500547485|0.015072840420891565|\n",
      "|[potential, great...|0.004250432682867...|                 0.0|\n",
      "|[excellent, place...| 0.00421107682469253| 0.01702672714211825|\n",
      "|[great, service, ...|  0.0083194444585389|0.005606361376063326|\n",
      "|[great, hotel, gr...|0.010182006650749103|0.013723033816035604|\n",
      "|[dump, dump, dump...|                 0.0| 0.01915506803488303|\n",
      "|[like, b, not, pl...|0.003445426492930...|0.013930958570824022|\n",
      "+--------------------+--------------------+--------------------+\n",
      "only showing top 20 rows\n",
      "\n"
     ]
    }
   ],
   "source": [
    "df_final.select(\"document\", \"hotel\", \"location\").show()"
   ]
  }
 ],
 "metadata": {
  "kernelspec": {
   "display_name": "Python 3",
   "language": "python",
   "name": "python3"
  },
  "language_info": {
   "codemirror_mode": {
    "name": "ipython",
    "version": 3
   },
   "file_extension": ".py",
   "mimetype": "text/x-python",
   "name": "python",
   "nbconvert_exporter": "python",
   "pygments_lexer": "ipython3",
   "version": "3.7.6"
  }
 },
 "nbformat": 4,
 "nbformat_minor": 4
}
